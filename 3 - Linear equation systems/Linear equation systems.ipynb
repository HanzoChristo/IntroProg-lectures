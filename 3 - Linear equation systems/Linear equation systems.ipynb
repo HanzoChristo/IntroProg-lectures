{
 "cells": [
  {
   "cell_type": "markdown",
   "metadata": {},
   "source": [
    "# Linear equation systems"
   ]
  },
  {
   "cell_type": "markdown",
   "metadata": {},
   "source": [
    "**Table of contents**<a id='toc0_'></a>    \n",
    "- 1. [Introduction](#toc1_)    \n",
    "- 2. [Matrix equations](#toc2_)    \n",
    "- 3. [Various other matrix operations](#toc3_)    \n",
    "- 4. [Gauss-Jordan elimination (+)](#toc4_)    \n",
    "- 5. [Details on LU factorization (+)](#toc5_)    \n",
    "- 6. [Iterative Gauss-Seidel (+)](#toc6_)    \n",
    "- 7. [Sparse matrices (+)](#toc7_)    \n",
    "\n",
    "<!-- vscode-jupyter-toc-config\n",
    "\tnumbering=true\n",
    "\tanchor=true\n",
    "\tflat=false\n",
    "\tminLevel=2\n",
    "\tmaxLevel=6\n",
    "\t/vscode-jupyter-toc-config -->\n",
    "<!-- THIS CELL WILL BE REPLACED ON TOC UPDATE. DO NOT WRITE YOUR TEXT IN THIS CELL -->"
   ]
  },
  {
   "cell_type": "markdown",
   "metadata": {},
   "source": [
    "You will learn about working with matrices and linear algebra (**scipy.linalg**), including solving systems of linear equations."
   ]
  },
  {
   "attachments": {},
   "cell_type": "markdown",
   "metadata": {},
   "source": [
    "**scipy.linalg:** [overview](https://docs.scipy.org/doc/scipy/reference/linalg.html) + [tutorial](https://docs.scipy.org/doc/scipy/tutorial/linalg.html)"
   ]
  },
  {
   "cell_type": "code",
   "execution_count": 1,
   "metadata": {},
   "outputs": [],
   "source": [
    "import numpy as np\n",
    "import matplotlib.pyplot as plt\n",
    "plt.rcParams.update({\"axes.grid\":True,\"grid.color\":\"black\",\"grid.alpha\":\"0.25\",\"grid.linestyle\":\"--\"})\n",
    "plt.rcParams.update({'font.size': 14})\n",
    "\n",
    "import time\n",
    "from scipy import linalg\n",
    "\n",
    "# local module for linear algebra\n",
    "%load_ext autoreload\n",
    "%autoreload 2\n",
    "import local_linalg"
   ]
  },
  {
   "cell_type": "markdown",
   "metadata": {},
   "source": [
    "## 1. <a id='toc1_'></a>[Introduction](#toc0_)"
   ]
  },
  {
   "cell_type": "markdown",
   "metadata": {},
   "source": [
    "A lot of economic models can be expressed as system of equations. Question is how to solve them?\n",
    "\n",
    "As a very easy example, just think of the market equilibrium when you have a supply curve and a demand curve.\n",
    "\n",
    "Consider a market, where suppliers have a **supply curve**\n",
    "$$\n",
    "q = 5 + \\frac{1}{3}p\n",
    "$$\n",
    "and consumers have a **demand curve** \n",
    "$$\n",
    "q = 10 - 2p\n",
    "$$"
   ]
  },
  {
   "attachments": {},
   "cell_type": "markdown",
   "metadata": {},
   "source": [
    "This gives rise to a linear system of equations\n",
    "$$\n",
    "\\begin{align}\n",
    "q-\\frac{1}{3}p &= 5 \\\\\n",
    "q+2p &= 10 \\\\\n",
    "\\end{align}\n",
    "$$\n",
    "\n",
    "We can put this into matrix notation $Ax=b$ by\n",
    "$$\n",
    "\\begin{bmatrix} \n",
    "1 & -1/3 \\\\\n",
    "1 & 2 \\\\ \n",
    "\\end{bmatrix} \\cdot \n",
    "\\begin{bmatrix} \n",
    "q \\\\ \n",
    "p \\\\ \n",
    "\\end{bmatrix} = \n",
    "\\begin{bmatrix} \n",
    "5 \\\\ \n",
    "10 \\\\\n",
    "\\end{bmatrix}\n",
    "$$\n",
    "\n",
    "**Solving** for the equilibrium $x = [q,p]$ means solving for $x$ in $Ax=b \\Leftrightarrow x = A^{-1}b$.  "
   ]
  },
  {
   "cell_type": "code",
   "execution_count": 2,
   "metadata": {},
   "outputs": [
    {
     "name": "stdout",
     "output_type": "stream",
     "text": [
      "[5.71428571 2.14285714]\n"
     ]
    }
   ],
   "source": [
    "A = np.array([[1.0,-1.0/3.0],[1.0,2.0]])\n",
    "b = np.array([5.0,10.0])\n",
    "\n",
    "Ainv = linalg.inv(A)\n",
    "sol = Ainv@b\n",
    "print(sol)"
   ]
  },
  {
   "attachments": {},
   "cell_type": "markdown",
   "metadata": {},
   "source": [
    "**Task:** Find the equilibrium if the demand surve instead was $q = 20 - 2p$."
   ]
  },
  {
   "cell_type": "code",
   "execution_count": 3,
   "metadata": {},
   "outputs": [],
   "source": [
    "# write your solution here"
   ]
  },
  {
   "cell_type": "markdown",
   "metadata": {},
   "source": [
    "## 2. <a id='toc2_'></a>[Matrix equations](#toc0_)"
   ]
  },
  {
   "cell_type": "markdown",
   "metadata": {},
   "source": [
    "More generally, we consider **matrix equations** with $n$ equations and $n$ unknowns:\n",
    "\n",
    "$$\n",
    "\\begin{aligned}\n",
    "Ax = b \\Leftrightarrow\n",
    "\\begin{bmatrix}a_{11} & a_{12} & \\cdots & a_{1n}\\\\\n",
    "a_{21} & a_{22} & \\cdots & a_{2n}\\\\\n",
    "\\vdots & \\vdots & \\ddots & \\vdots\\\\\n",
    "a_{n1} & a_{n2} & \\cdots & a_{nn}\n",
    "\\end{bmatrix}\\begin{bmatrix}x_{1}\\\\\n",
    "x_{2}\\\\\n",
    "\\vdots\\\\\n",
    "x_{n}\n",
    "\\end{bmatrix} & = \\begin{bmatrix}b_{1}\\\\\n",
    "b_{2}\\\\\n",
    "\\vdots\\\\\n",
    "b_{n}\n",
    "\\end{bmatrix}\n",
    "\\end{aligned}\n",
    "$$\n",
    "\n",
    "where $A$ is a square parameter matrix, $b$ is a parameter vector, and $x$ is the vector of unknowns."
   ]
  },
  {
   "cell_type": "markdown",
   "metadata": {},
   "source": [
    "A specific **example** could be:\n",
    "\n",
    "$$ \n",
    "\\begin{aligned}\n",
    "Ax = b \\Leftrightarrow\n",
    "\\begin{bmatrix} \n",
    "3 & 2 & 0 \\\\ \n",
    "1 & -1 & 0 \\\\\n",
    "0 & 5 & 1\n",
    "\\end{bmatrix} \n",
    "\\begin{bmatrix} \n",
    "x_1 \\\\ \n",
    "x_2 \\\\\n",
    "x_3\n",
    "\\end{bmatrix} \\,=\\,\n",
    "\\begin{bmatrix} \n",
    "2 \\\\ \n",
    "4 \\\\\n",
    "-1\n",
    "\\end{bmatrix} \n",
    "\\end{aligned}\n",
    "$$"
   ]
  },
  {
   "cell_type": "markdown",
   "metadata": {},
   "source": [
    "**How to solve this?**"
   ]
  },
  {
   "cell_type": "code",
   "execution_count": 4,
   "metadata": {},
   "outputs": [],
   "source": [
    "A = np.array([[3.0, 2.0, 0.0], [1.0, -1.0, 0], [0.0, 5.0, 1.0]])\n",
    "b = np.array([2.0, 4.0, -1.0])"
   ]
  },
  {
   "attachments": {},
   "cell_type": "markdown",
   "metadata": {},
   "source": [
    "**Option 1:** Compute `.inv()` first and then solve."
   ]
  },
  {
   "cell_type": "code",
   "execution_count": 5,
   "metadata": {},
   "outputs": [
    {
     "name": "stdout",
     "output_type": "stream",
     "text": [
      "[ 2. -2.  9.]\n"
     ]
    }
   ],
   "source": [
    "x = linalg.inv(A)@b\n",
    "print(x)\n",
    "assert np.allclose(A@x,b)"
   ]
  },
  {
   "attachments": {},
   "cell_type": "markdown",
   "metadata": {},
   "source": [
    "**Note:** Computing the inverse is normally not a good idea due to numerical stability."
   ]
  },
  {
   "attachments": {},
   "cell_type": "markdown",
   "metadata": {},
   "source": [
    "**Option 2:** Use `.solve()` (scipy chooses what happens)."
   ]
  },
  {
   "cell_type": "code",
   "execution_count": 6,
   "metadata": {},
   "outputs": [
    {
     "name": "stdout",
     "output_type": "stream",
     "text": [
      "[ 2. -2.  9.]\n"
     ]
    }
   ],
   "source": [
    "x = linalg.solve(A,b)\n",
    "print(x)\n",
    "assert np.allclose(A@x,b)"
   ]
  },
  {
   "attachments": {},
   "cell_type": "markdown",
   "metadata": {},
   "source": [
    "**Example of better numerical properties:** $Hz=d$"
   ]
  },
  {
   "cell_type": "code",
   "execution_count": 7,
   "metadata": {},
   "outputs": [
    {
     "name": "stdout",
     "output_type": "stream",
     "text": [
      "error with linalg.inv:\n",
      "[3.5869889e-06 2.2444874e-07 0.0000000e+00]\n",
      "\n",
      "error with linalg.solve:\n",
      "[-6.55646204e-10  6.56314114e-10  0.00000000e+00]\n"
     ]
    }
   ],
   "source": [
    "H = np.array([[1000, 999,998],[999, 998,997],[998,997,999]]) # \"bad\" matrix\n",
    "z = np.array([100,1000,10000]) # known answer\n",
    "d = H@z # implied right-hand side\n",
    "\n",
    "print('error with linalg.inv:')\n",
    "print(np.linalg.inv(H)@d-z)\n",
    "\n",
    "print('')\n",
    "\n",
    "print('error with linalg.solve:')\n",
    "print(np.linalg.solve(H,d)-z)\n"
   ]
  },
  {
   "cell_type": "markdown",
   "metadata": {},
   "source": [
    "**Option 3:** Compute LU decomposition and then solve."
   ]
  },
  {
   "cell_type": "code",
   "execution_count": 8,
   "metadata": {},
   "outputs": [
    {
     "name": "stdout",
     "output_type": "stream",
     "text": [
      "[ 2. -2.  9.]\n"
     ]
    }
   ],
   "source": [
    "LU,piv = linalg.lu_factor(A) # so-called LU decomposition (factorization)\n",
    "x = linalg.lu_solve((LU,piv),b)\n",
    "print(x)\n",
    "assert np.allclose(A@x,b)"
   ]
  },
  {
   "attachments": {},
   "cell_type": "markdown",
   "metadata": {},
   "source": [
    "**Note:** `linalg.lu_solve()` is the best choice when solving for multipe $b$'s for a fixed $A$ because the LU decomposition only needs to be done once."
   ]
  },
  {
   "attachments": {},
   "cell_type": "markdown",
   "metadata": {},
   "source": [
    "**Timings:**"
   ]
  },
  {
   "cell_type": "code",
   "execution_count": 9,
   "metadata": {},
   "outputs": [
    {
     "name": "stdout",
     "output_type": "stream",
     "text": [
      "30.5 µs ± 2.42 µs per loop (mean ± std. dev. of 7 runs, 10000 loops each)\n",
      "6.68 µs ± 264 ns per loop (mean ± std. dev. of 7 runs, 100000 loops each)\n",
      "6.27 µs ± 299 ns per loop (mean ± std. dev. of 7 runs, 100000 loops each)\n"
     ]
    }
   ],
   "source": [
    "%timeit linalg.solve(A,b)\n",
    "%timeit linalg.lu_factor(A)\n",
    "%timeit linalg.lu_solve((LU,piv),b)"
   ]
  },
  {
   "attachments": {},
   "cell_type": "markdown",
   "metadata": {},
   "source": [
    "**Task:** Complete the code below using first `linalg.solve` and then `linalg.lu_solve`."
   ]
  },
  {
   "cell_type": "code",
   "execution_count": 10,
   "metadata": {},
   "outputs": [
    {
     "name": "stdout",
     "output_type": "stream",
     "text": [
      "not sucessfull, solution not correct\n"
     ]
    }
   ],
   "source": [
    "cs = [np.random.uniform(size=(3,)) for _ in range(10)]\n",
    "\n",
    "try:\n",
    "\n",
    "    for c in cs:\n",
    "        x = np.zeros(c.size)\n",
    "        assert np.allclose(A@x,c), 'solution not correct'\n",
    "\n",
    "    print('sucessfull')\n",
    "\n",
    "except Exception as e:\n",
    "\n",
    "    print(f'not sucessfull, {e}')"
   ]
  },
  {
   "cell_type": "markdown",
   "metadata": {},
   "source": [
    "## 3. <a id='toc3_'></a>[Various other matrix operations](#toc0_)"
   ]
  },
  {
   "cell_type": "code",
   "execution_count": 11,
   "metadata": {
    "tags": []
   },
   "outputs": [
    {
     "data": {
      "text/plain": [
       "array([[ 3.,  1.,  0.],\n",
       "       [ 2., -1.,  5.],\n",
       "       [ 0.,  0.,  1.]])"
      ]
     },
     "execution_count": 11,
     "metadata": {},
     "output_type": "execute_result"
    }
   ],
   "source": [
    "A.T # transpose"
   ]
  },
  {
   "cell_type": "code",
   "execution_count": 12,
   "metadata": {},
   "outputs": [
    {
     "data": {
      "text/plain": [
       "array([ 3., -1.,  1.])"
      ]
     },
     "execution_count": 12,
     "metadata": {},
     "output_type": "execute_result"
    }
   ],
   "source": [
    "np.diag(A) # diagonal"
   ]
  },
  {
   "cell_type": "code",
   "execution_count": 13,
   "metadata": {},
   "outputs": [
    {
     "name": "stdout",
     "output_type": "stream",
     "text": [
      "[[0. 2. 0.]\n",
      " [1. 0. 0.]\n",
      " [0. 5. 0.]]\n"
     ]
    }
   ],
   "source": [
    "B = A.copy()\n",
    "np.fill_diagonal(B,0) # fill diagonal with zeros\n",
    "print(B)"
   ]
  },
  {
   "cell_type": "code",
   "execution_count": 14,
   "metadata": {},
   "outputs": [
    {
     "data": {
      "text/plain": [
       "array([[1., 0., 0.],\n",
       "       [0., 1., 0.],\n",
       "       [0., 0., 1.]])"
      ]
     },
     "execution_count": 14,
     "metadata": {},
     "output_type": "execute_result"
    }
   ],
   "source": [
    "np.eye(3) # identity matrix"
   ]
  },
  {
   "cell_type": "code",
   "execution_count": 15,
   "metadata": {},
   "outputs": [
    {
     "data": {
      "text/plain": [
       "array([[ 3.,  0.,  0.],\n",
       "       [ 1., -1.,  0.],\n",
       "       [ 0.,  5.,  1.]])"
      ]
     },
     "execution_count": 15,
     "metadata": {},
     "output_type": "execute_result"
    }
   ],
   "source": [
    "np.tril(A) # lower triangular matrix"
   ]
  },
  {
   "cell_type": "code",
   "execution_count": 16,
   "metadata": {},
   "outputs": [
    {
     "data": {
      "text/plain": [
       "array([[ 3.,  2.,  0.],\n",
       "       [ 0., -1.,  0.],\n",
       "       [ 0.,  0.,  1.]])"
      ]
     },
     "execution_count": 16,
     "metadata": {},
     "output_type": "execute_result"
    }
   ],
   "source": [
    "np.triu(A) # upper triangular matrix"
   ]
  },
  {
   "cell_type": "code",
   "execution_count": 17,
   "metadata": {},
   "outputs": [
    {
     "data": {
      "text/plain": [
       "array([ 1.        +0.j, -1.44948974+0.j,  3.44948974+0.j])"
      ]
     },
     "execution_count": 17,
     "metadata": {},
     "output_type": "execute_result"
    }
   ],
   "source": [
    "linalg.eigvals(A) # eigen values"
   ]
  },
  {
   "attachments": {},
   "cell_type": "markdown",
   "metadata": {},
   "source": [
    "... and many more."
   ]
  },
  {
   "cell_type": "markdown",
   "metadata": {},
   "source": [
    "## 4. <a id='toc4_'></a>[Gauss-Jordan elimination (+)](#toc0_)"
   ]
  },
  {
   "attachments": {},
   "cell_type": "markdown",
   "metadata": {},
   "source": [
    "**How could the code for linalg.solve and linalg.inv be written?**"
   ]
  },
  {
   "cell_type": "markdown",
   "metadata": {},
   "source": [
    "Consider the column stacked matrix:\n",
    "\n",
    "$$\n",
    "X=[A\\,|\\,b]=\\begin{bmatrix}a_{11} & a_{12} & \\cdots & a_{1n} & b_{1}\\\\\n",
    "a_{21} & a_{22} & \\cdots & a_{2n} & b_{2}\\\\\n",
    "\\vdots & \\vdots & \\ddots & \\vdots & \\vdots\\\\\n",
    "a_{n1} & a_{n2} & \\cdots & a_{nn} & b_{n}\n",
    "\\end{bmatrix}\n",
    "$$"
   ]
  },
  {
   "cell_type": "markdown",
   "metadata": {},
   "source": [
    "Find the **row reduced echelon form** by performing row operations, i.e.\n",
    "\n",
    "1. Multiply row with constant\n",
    "2. Swap rows\n",
    "3. Add one row to another row,"
   ]
  },
  {
   "cell_type": "markdown",
   "metadata": {},
   "source": [
    "until the $A$ part of the matrix is the identity matrix."
   ]
  },
  {
   "cell_type": "markdown",
   "metadata": {},
   "source": [
    "**Manually:**"
   ]
  },
  {
   "attachments": {},
   "cell_type": "markdown",
   "metadata": {},
   "source": [
    "Stack:"
   ]
  },
  {
   "cell_type": "code",
   "execution_count": 18,
   "metadata": {},
   "outputs": [
    {
     "name": "stdout",
     "output_type": "stream",
     "text": [
      "[[ 3.  2.  0.  2.]\n",
      " [ 1. -1.  0.  4.]\n",
      " [ 0.  5.  1. -1.]]\n"
     ]
    }
   ],
   "source": [
    "X = np.column_stack((A,b))\n",
    "print(X)"
   ]
  },
  {
   "cell_type": "markdown",
   "metadata": {},
   "source": [
    "Find row reduced echelon form:"
   ]
  },
  {
   "cell_type": "code",
   "execution_count": 19,
   "metadata": {},
   "outputs": [
    {
     "name": "stdout",
     "output_type": "stream",
     "text": [
      "[[ 1.  0.  0.  2.]\n",
      " [-0.  1. -0. -2.]\n",
      " [ 0.  0.  1.  9.]]\n"
     ]
    }
   ],
   "source": [
    "X[0,:] += 2*X[1,:]\n",
    "X[0,:] /= 5.0\n",
    "X[1,:] -= X[0,:]\n",
    "X[1,:] *= -1\n",
    "X[2,:] -= 5*X[1,:]\n",
    "\n",
    "print(X)"
   ]
  },
  {
   "attachments": {},
   "cell_type": "markdown",
   "metadata": {},
   "source": [
    "Solution in last column:"
   ]
  },
  {
   "cell_type": "code",
   "execution_count": 20,
   "metadata": {},
   "outputs": [
    {
     "name": "stdout",
     "output_type": "stream",
     "text": [
      "[ 2. -2.  9.]\n"
     ]
    }
   ],
   "source": [
    "print(X[:,-1])\n",
    "assert np.allclose(A@X[:,-1],b)"
   ]
  },
  {
   "cell_type": "markdown",
   "metadata": {},
   "source": [
    "**General function:**"
   ]
  },
  {
   "cell_type": "code",
   "execution_count": 21,
   "metadata": {},
   "outputs": [
    {
     "name": "stdout",
     "output_type": "stream",
     "text": [
      "solution [ 2. -2.  9.]\n"
     ]
    }
   ],
   "source": [
    "Y = np.column_stack((A,b))\n",
    "local_linalg.gauss_jordan(Y)\n",
    "print('solution',Y[:,-1])"
   ]
  },
  {
   "cell_type": "markdown",
   "metadata": {},
   "source": [
    "which can also be used to find the inverse if we stack with the identity matrix instead,"
   ]
  },
  {
   "cell_type": "code",
   "execution_count": 22,
   "metadata": {},
   "outputs": [
    {
     "name": "stdout",
     "output_type": "stream",
     "text": [
      "stacked:\n",
      " [[ 3.  2.  0.  1.  0.  0.]\n",
      " [ 1. -1.  0.  0.  1.  0.]\n",
      " [ 0.  5.  1.  0.  0.  1.]]\n",
      "inverse:\n",
      " [[ 0.2  0.4  0. ]\n",
      " [ 0.2 -0.6  0. ]\n",
      " [-1.   3.   1. ]]\n"
     ]
    }
   ],
   "source": [
    "# a. construct stacked matrix\n",
    "Z = np.hstack((A,np.eye(3)))\n",
    "print('stacked:\\n',Z)\n",
    "\n",
    "# b. apply gauss jordan elimination\n",
    "local_linalg.gauss_jordan(Z)\n",
    "\n",
    "# b. find inverse\n",
    "inv_Z = Z[:,3:] # last 3 columns of Z in row reduced echelon form\n",
    "print('inverse:\\n',inv_Z)\n",
    "\n",
    "assert np.allclose(Z[:,3:]@A,np.eye(3))"
   ]
  },
  {
   "cell_type": "markdown",
   "metadata": {},
   "source": [
    "## 5. <a id='toc5_'></a>[Details on LU factorization (+)](#toc0_)"
   ]
  },
  {
   "attachments": {},
   "cell_type": "markdown",
   "metadata": {},
   "source": [
    "**What is a LU decomposition more precisely?**"
   ]
  },
  {
   "cell_type": "markdown",
   "metadata": {},
   "source": [
    "\n",
    "When $A$ is *regular* (invertible), we can decompose it into a *lower unit triangular matrix*, $L$, and an *upper triangular matrix*, $U$:\n",
    "\n",
    "$$\n",
    "A= \\begin{bmatrix}a_{11} & a_{12} & \\cdots & a_{1n}\\\\\n",
    "a_{21} & a_{22} & \\cdots & a_{2n}\\\\\n",
    "\\vdots & \\vdots & \\ddots & \\vdots\\\\\n",
    "a_{n1} & a_{n2} & \\cdots & a_{nn}\n",
    "\\end{bmatrix} \n",
    "= L\\cdot U = \\begin{bmatrix}1 & 0 & \\cdots & 0\\\\\n",
    "l_{21} & 1 & \\cdots & 0\\\\\n",
    "\\vdots & \\vdots & \\ddots & \\vdots\\\\\n",
    "l_{n1} & l_{n2} & \\cdots & 1\n",
    "\\end{bmatrix}\\cdot\\begin{bmatrix}u_{11} & u_{12} & \\cdots & u_{1n}\\\\\n",
    "0 & u_{22} & \\cdots & u_{2n}\\\\\n",
    "\\vdots & \\vdots & \\ddots & \\vdots\\\\\n",
    "0 & 0 & \\cdots & u_{nn}\n",
    "\\end{bmatrix}\n",
    "$$\n",
    "\n",
    "By starting with the top row of the $upper$ part and the first $column$ of the lower part, we can work our way through using the definition of a matrix product. Note that we actively use the fact that there are 1s on the diagonal of the lower matrix.\n",
    "\n",
    "$$\n",
    "\\begin{aligned}\n",
    "\\textrm{if    }&\\\\\n",
    " &i = 1: \\:\\: u_{1j} = a_{1j} \\:\\:\\:\\: (\\textit{top row is identical to that of A})\\\\\n",
    " &j = 1: \\:\\: l_{i1} = \\frac{a_{i1}}{u_{11}} \\\\\n",
    "\\textrm{else}&\\\\\n",
    "&u_{ij} = a_{ij} - \\sum_{k=1}^{i-1} u_{kj} l_{ik} \\\\\n",
    "%\\textrm{else  }\\:\\:\n",
    "&l_{ij} = \\frac{1}{u_{jj}} \\big( a_{ij} - \\sum_{k=1}^{j-1} u_{kj} l_{ik} \\big)\n",
    "\\end{aligned}\n",
    "$$\n",
    "\n",
    "You can therefore get $L$ and $U$ by following steps:\n",
    "* First obtain row 1 of $U$. It's equal to row 1 of $A$. \n",
    "* Then get column 1 of $L$.\n",
    "* This will allow you to get $u_{2,2}$\n",
    "* Based on $u_{1,2},u_{2,1},u_{2,2},l_{1,1},l_{1,2}$ you can get $l_{3,2}$.\n",
    "* Keep working out subsequent $u_{ij}$ and $l_{ij}$ based on above formulas. \n",
    "\n",
    "The factorization implies that the equation system can be written\n",
    "\n",
    "$$ \n",
    "Ax = L(Ux) = b \n",
    "$$"
   ]
  },
  {
   "attachments": {},
   "cell_type": "markdown",
   "metadata": {},
   "source": [
    "\n",
    "**Algorithm:** `lu_solve()`  \n",
    "3 steps and you are done:\n",
    "1. Perform LU decomposition (factorization)\n",
    "2. Solve for $y$ in $Ly = b$ (using *forward substitution* - recursive system from top to bottom)\n",
    "\n",
    "    $y_1 = b_1,\\,\\, y_2 = b_2-l_{21}y_1,\\,\\, \\dots$\n",
    "\n",
    "3. Solve for $x$ in $Ux = y$ (using  *backward substitution* - recursive system from bottom to top)\n",
    "\n",
    "    $x_n = y_n/u_{nn},\\,\\, x_{n-1} = (y_{n-1}-u_{n-1n}x_n)/u_{n-1n-1},\\dots$"
   ]
  },
  {
   "cell_type": "code",
   "execution_count": 23,
   "metadata": {},
   "outputs": [
    {
     "name": "stdout",
     "output_type": "stream",
     "text": [
      "A:\n",
      " [[ 3.  2.  0.]\n",
      " [ 1. -1.  0.]\n",
      " [ 0.  5.  1.]]\n",
      "L:\n",
      " [[ 1.          0.          0.        ]\n",
      " [ 0.33333333  1.          0.        ]\n",
      " [ 0.         -3.          1.        ]]\n",
      "\n",
      "U:\n",
      " [[ 3.          2.          0.        ]\n",
      " [ 0.         -1.66666667  0.        ]\n",
      " [ 0.          0.          1.        ]]\n",
      "\n",
      "solution: [ 2. -2.  9.]\n"
     ]
    }
   ],
   "source": [
    "L,U = local_linalg.lu_decomposition(A) # step 1\n",
    "y = local_linalg.solve_with_forward_substitution(L,b) # step 2\n",
    "x = local_linalg.solve_with_backward_substitution(U,y) # step 3\n",
    "print('A:\\n',A)\n",
    "print('L:\\n',L)\n",
    "print('\\nU:\\n',U)\n",
    "print('\\nsolution:',x)\n",
    "assert np.allclose(A@x,b)"
   ]
  },
  {
   "cell_type": "markdown",
   "metadata": {},
   "source": [
    "**Relation to scipy:**\n",
    "\n",
    "1. Scipy use pivoting to improve numerical stability.\n",
    "2. Scipy is implemented much much better than here."
   ]
  },
  {
   "cell_type": "markdown",
   "metadata": {},
   "source": [
    "## 6. <a id='toc6_'></a>[Iterative Gauss-Seidel (+)](#toc0_)"
   ]
  },
  {
   "attachments": {},
   "cell_type": "markdown",
   "metadata": {},
   "source": [
    "**An approximate method for solving linear matrix equation systems.**"
   ]
  },
  {
   "attachments": {},
   "cell_type": "markdown",
   "metadata": {},
   "source": [
    "We can always decompose $A$ into *additive* lower and upper triangular matrices,\n",
    "\n",
    "$$\n",
    "A=L+U=\\begin{bmatrix}a_{11} & 0 & \\cdots & 0\\\\\n",
    "a_{21} & a_{22} & \\cdots & 0\\\\\n",
    "\\vdots & \\vdots & \\ddots & \\vdots\\\\\n",
    "a_{n1} & a_{n2} & \\cdots & a_{nn}\n",
    "\\end{bmatrix}+\\begin{bmatrix}0 & a_{12} & \\cdots & a_{1n}\\\\\n",
    "0 & 0 & \\cdots & a_{2n}\\\\\n",
    "\\vdots & \\vdots & \\ddots & \\vdots\\\\\n",
    "0 & 0 & \\cdots & 0\n",
    "\\end{bmatrix}\n",
    "$$\n",
    "\n",
    "such that\n",
    "\n",
    "$$\n",
    "Ax=b\\Leftrightarrow \\underbrace{Lx}_{\\text{LHS}}=\\underbrace{b-Ux}_{\\text{RHS}}\n",
    "$$\n",
    "\n",
    "The idea and beauty of the algorithm is that we go from an identity, $Ax=b$, to an iteration on $x$. This is because the $x$ on the LHS above is **not** the same $x$ as on the RHS. It is an update! And if we keep making updates, we will eventually get the solution. See how below.   "
   ]
  },
  {
   "cell_type": "markdown",
   "metadata": {},
   "source": [
    "**Algorithm:** `gauss_seidel()`\n",
    "\n",
    "1. Choose tolerance $\\epsilon > 0$ and set $n=1$. Define the initial **guess** on $x$ denoted $x_0$.\n",
    "2. From $A$, get $L$ and $U$ as the lower and upper part.\n",
    "2. Set $\\tilde{x}= x_0$\n",
    "2. Given $\\tilde{x}$, calculate $y_n = (b-U\\tilde{x})$.\n",
    "2. Given $y_n$ solve for $x_{n}$ in the equation $Lx_{n} = y_n$.\n",
    "3. If $|x_{n}-\\tilde{x}|_{\\infty} < \\epsilon$ stop.   \n",
    "   Else, set $\\tilde{x} = x_{n}$ and $n=n+1$ and return to step 4."
   ]
  },
  {
   "attachments": {},
   "cell_type": "markdown",
   "metadata": {},
   "source": [
    "Why is this smart? Because it relies on solving a system of equations, $Lx_n=y_n$, where $L$ is **lower triangular**. It is much easier to solve a system of a lower triangular matrix, because we can use **forward substitution** (as above).  "
   ]
  },
  {
   "cell_type": "markdown",
   "metadata": {},
   "source": [
    "**Apply Gauss-Seidel:**"
   ]
  },
  {
   "cell_type": "code",
   "execution_count": 24,
   "metadata": {},
   "outputs": [
    {
     "name": "stdout",
     "output_type": "stream",
     "text": [
      "solution [ 2. -2.  9.]\n"
     ]
    }
   ],
   "source": [
    "x0 = np.array([1,1,1])\n",
    "x =  local_linalg.gauss_seidel(A,b,x0)\n",
    "print('solution',x)\n",
    "assert np.allclose(A@x,b)"
   ]
  },
  {
   "cell_type": "markdown",
   "metadata": {},
   "source": [
    "> **Note:** Convergence is not ensured unless the matrix is *diagonally dominant* or *symmetric* and *positive definite*."
   ]
  },
  {
   "cell_type": "code",
   "execution_count": 25,
   "metadata": {},
   "outputs": [
    {
     "name": "stdout",
     "output_type": "stream",
     "text": [
      "   [1 1 1]\n",
      "  0: [  0.00000000  -4.00000000  19.00000000]\n",
      "  1: [  3.33333333  -0.66666667   2.33333333]\n",
      "  2: [  1.11111111  -2.88888889  13.44444444]\n",
      "  3: [  2.59259259  -1.40740741   6.03703704]\n",
      "  4: [  1.60493827  -2.39506173  10.97530864]\n",
      "  5: [  2.26337449  -1.73662551   7.68312757]\n",
      "  6: [  1.82441701  -2.17558299   9.87791495]\n",
      "  7: [  2.11705533  -1.88294467   8.41472337]\n",
      "  8: [  1.92196312  -2.07803688   9.39018442]\n",
      "  9: [  2.05202459  -1.94797541   8.73987705]\n",
      " 10: [  1.96531694  -2.03468306   9.17341530]\n",
      " 11: [  2.02312204  -1.97687796   8.88438980]\n",
      " 12: [  1.98458531  -2.01541469   9.07707347]\n",
      " 13: [  2.01027646  -1.98972354   8.94861769]\n",
      " 14: [  1.99314903  -2.00685097   9.03425487]\n",
      " 15: [  2.00456732  -1.99543268   8.97716342]\n",
      " 16: [  1.99695512  -2.00304488   9.01522439]\n",
      " 17: [  2.00202992  -1.99797008   8.98985041]\n",
      " 18: [  1.99864672  -2.00135328   9.00676639]\n",
      " 19: [  2.00090219  -1.99909781   8.99548907]\n",
      " 20: [  1.99939854  -2.00060146   9.00300729]\n",
      " 21: [  2.00040097  -1.99959903   8.99799514]\n",
      " 22: [  1.99973269  -2.00026731   9.00133657]\n",
      " 23: [  2.00017821  -1.99982179   8.99910895]\n",
      " 24: [  1.99988119  -2.00011881   9.00059403]\n",
      " 25: [  2.00007920  -1.99992080   8.99960398]\n",
      " 26: [  1.99994720  -2.00005280   9.00026401]\n",
      " 27: [  2.00003520  -1.99996480   8.99982399]\n",
      " 28: [  1.99997653  -2.00002347   9.00011734]\n",
      " 29: [  2.00001565  -1.99998435   8.99992177]\n",
      " 30: [  1.99998957  -2.00001043   9.00005215]\n",
      " 31: [  2.00000695  -1.99999305   8.99996523]\n",
      " 32: [  1.99999536  -2.00000464   9.00002318]\n",
      " 33: [  2.00000309  -1.99999691   8.99998455]\n",
      " 34: [  1.99999794  -2.00000206   9.00001030]\n",
      " 35: [  2.00000137  -1.99999863   8.99999313]\n",
      " 36: [  1.99999908  -2.00000092   9.00000458]\n",
      " 37: [  2.00000061  -1.99999939   8.99999695]\n",
      " 38: [  1.99999959  -2.00000041   9.00000203]\n",
      " 39: [  2.00000027  -1.99999973   8.99999864]\n",
      " 40: [  1.99999982  -2.00000018   9.00000090]\n",
      " 41: [  2.00000012  -1.99999988   8.99999940]\n",
      " 42: [  1.99999992  -2.00000008   9.00000040]\n",
      " 43: [  2.00000005  -1.99999995   8.99999973]\n",
      " 44: [  1.99999996  -2.00000004   9.00000018]\n",
      " 45: [  2.00000002  -1.99999998   8.99999988]\n",
      " 46: [  1.99999998  -2.00000002   9.00000008]\n",
      " 47: [  2.00000001  -1.99999999   8.99999995]\n",
      " 48: [  1.99999999  -2.00000001   9.00000004]\n",
      " 49: [  2.00000000  -2.00000000   8.99999998]\n",
      " 50: [  2.00000000  -2.00000000   9.00000002]\n",
      " 51: [  2.00000000  -2.00000000   8.99999999]\n",
      " 52: [  2.00000000  -2.00000000   9.00000001]\n",
      " 53: [  2.00000000  -2.00000000   9.00000000]\n",
      " 54: [  2.00000000  -2.00000000   9.00000000]\n"
     ]
    }
   ],
   "source": [
    "x =  local_linalg.gauss_seidel(A,b,x0,do_print=True)"
   ]
  },
  {
   "cell_type": "markdown",
   "metadata": {},
   "source": [
    "## 7. <a id='toc7_'></a>[Sparse matrices (+)](#toc0_)"
   ]
  },
  {
   "attachments": {},
   "cell_type": "markdown",
   "metadata": {},
   "source": [
    "You may sometimes deal with a matrix that is really large, but **most** of the entries are 0s. Not uncommon in econometrics or large systems of equations.  \n",
    "\n",
    "In that case, you can save a lot of memory by removing all the 0s from memory and let Python only worry about the non-zero numbers. That of course requires a whole new set of routines for matrix operations, since the elements are no longer contiguous.    \n",
    "\n",
    "It can be worth it if about 70% of your matrix is just 0s. \n",
    "\n",
    "**scipy.sparse.linalg** allows you to solve systems of equations with sparse matrices. \n",
    "\n",
    "**documentation:** [basics](https://docs.scipy.org/doc/scipy/reference/sparse.html) + [linear algebra](https://docs.scipy.org/doc/scipy/reference/sparse.linalg.html#module-scipy.sparse.linalg)"
   ]
  },
  {
   "cell_type": "markdown",
   "metadata": {},
   "source": [
    "**create a sparse matrix**, where most elements are on the diagonal:"
   ]
  },
  {
   "cell_type": "code",
   "execution_count": 26,
   "metadata": {},
   "outputs": [],
   "source": [
    "from scipy import sparse\n",
    "import scipy.sparse.linalg\n",
    "\n",
    "# construct some sparse matrix\n",
    "S = sparse.lil_matrix((1000, 1000)) # 1000x1000 matrix with zeroes\n",
    "S.setdiag(np.random.rand(1000)) # some values on the diagonal\n",
    "S[200, :100] = np.random.rand(100) # some values in a row\n",
    "S[200:210, 100:200] = S[200, :100] # and the same value in some other rows\n",
    "\n",
    "# other matrix formats\n",
    "S_csr = S.tocsr()\n",
    "S_csc = S.tocsc()"
   ]
  },
  {
   "cell_type": "markdown",
   "metadata": {},
   "source": [
    "Create a plot of the values in the matrix:"
   ]
  },
  {
   "cell_type": "code",
   "execution_count": 27,
   "metadata": {},
   "outputs": [
    {
     "data": {
<<<<<<< Updated upstream
      "image/png": "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",
=======
      "image/png": "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",
>>>>>>> Stashed changes
      "text/plain": [
       "<Figure size 640x480 with 1 Axes>"
      ]
     },
     "metadata": {},
     "output_type": "display_data"
    }
   ],
   "source": [
    "S_np = S.toarray() # conversion to numpy\n",
    "fig = plt.figure()\n",
    "ax = fig.add_subplot(1,1,1)\n",
    "ax.matshow(S_np,cmap=plt.cm.binary);"
   ]
  },
  {
   "cell_type": "markdown",
   "metadata": {},
   "source": [
    "**Solve it in four different ways:**\n",
    "\n",
    "1. Like it was not sparse\n",
    "2. Using the sparsity\n",
    "3. Using the sparsity + explicit factorization\n",
    "4. Iterative solver (similar to Gauss-Seidel)"
   ]
  },
  {
   "cell_type": "code",
   "execution_count": 28,
   "metadata": {},
   "outputs": [
    {
     "name": "stdout",
     "output_type": "stream",
     "text": [
<<<<<<< Updated upstream
      "solve       : 0.02297 secs\n",
      "spsolve     : 0.00100 secs\n",
      "factorized  : 0.00100 secs\n",
      "bicgstab    : 0.02698 secs\n"
=======
      "solve       : 0.30319 secs\n",
      "spsolve     : 0.00100 secs\n",
      "factorized  : 0.00100 secs\n",
      "bicgstab    : 0.01995 secs\n"
>>>>>>> Stashed changes
     ]
    }
   ],
   "source": [
    "# just use some random numbers for right hand side of equation\n",
    "k = np.random.rand(1000) \n",
    "\n",
    "# a. solve \n",
    "t0 = time.time()\n",
    "x = linalg.solve(S_np,k)\n",
    "print(f'{\"solve\":12s}: {time.time()-t0:.5f} secs')\n",
    "\n",
    "# b. solve using sparse matrix algebra in spsolve\n",
    "t0 = time.time()\n",
    "x_alt = sparse.linalg.spsolve(S_csr, k)\n",
    "print(f'{\"spsolve\":12s}: {time.time()-t0:.5f} secs')\n",
    "assert np.allclose(x,x_alt)\n",
    "      \n",
    "# c. solve with explicit factorization\n",
    "t0 = time.time()\n",
    "S_solver = sparse.linalg.factorized(S_csc)\n",
    "x_alt = S_solver(k)\n",
    "print(f'{\"factorized\":12s}: {time.time()-t0:.5f} secs')\n",
    "assert np.allclose(x,x_alt)\n",
    "      \n",
    "# d. solve with iterative solver (bicgstab)\n",
    "t0 = time.time()\n",
    "x_alt,_info = sparse.linalg.bicgstab(S,k,x0=1.001*x,tol=10**(-8))\n",
    "print(f'{\"bicgstab\":12s}: {time.time()-t0:.5f} secs')\n",
    "assert np.allclose(x,x_alt),x-x_alt"
   ]
  },
  {
   "attachments": {},
   "cell_type": "markdown",
   "metadata": {},
   "source": [
    "**Take-aways:** \n",
    "\n",
    "1. Using the sparsity can be very important.\n",
    "2. Iterative solvers can be very very slow."
   ]
  }
 ],
 "metadata": {
  "kernelspec": {
   "display_name": "base",
   "language": "python",
   "name": "python3"
  },
  "language_info": {
   "codemirror_mode": {
    "name": "ipython",
    "version": 3
   },
   "file_extension": ".py",
   "mimetype": "text/x-python",
   "name": "python",
   "nbconvert_exporter": "python",
   "pygments_lexer": "ipython3",
   "version": "3.10.10"
  },
  "toc-autonumbering": true,
  "vscode": {
   "interpreter": {
    "hash": "47ef90cdf3004d3f859f1fb202523c65c07ba7c22eefd261b181f4744e2d0403"
   }
  }
 },
 "nbformat": 4,
 "nbformat_minor": 4
}
